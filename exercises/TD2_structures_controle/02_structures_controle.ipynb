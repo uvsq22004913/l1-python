{
 "cells": [
  {
   "cell_type": "markdown",
   "metadata": {
    "slideshow": {
     "slide_type": "slide"
    }
   },
   "source": [
    "# TD 2: Les structures de contrôle\n",
    "\n",
    "---\n",
    "\n",
    "## 0. Récupération des nouveaux documents\n",
    "\n",
    "\n",
    "Les sujets de TD ainsi que les supports de cours sont publiés en ligne au fur et à mesure sur l'espace github original [https://github.com/uvsq-info/l1-python](https://github.com/uvsq-info/l1-python). Au moment où vous avez fait le fork de cet espace sur votre espace personnel, il est probable que tous les contenus n'étaient pas présents. Pour compléter votre espace, deux solutions sont possibles:\n",
    "\n",
    "\n",
    "1. (solution à privilégier) aller sur la page du projet original [https://github.com/uvsq-info/l1-python](https://github.com/uvsq-info/l1-python), et cliquer sur le bouton vert `Code` en haut à droite. Choisir `download ZIP`, puis extraire l'ensemble des nouveaux fichiers vers votre projet personnel local. Vous pouvez ensuite sauvegarder ces ajouts dans votre espace github personnel en suivant la procédure habituelle.\n",
    "2. (solution qui présente des risques de conflits entre différentes versions d'un même document) en ligne de commande dans le terminal, en suivant la procédure de la section *Intégrer les mises à jour du projet original* du fichier [README.md](https://github.com/uvsq-info/l1-python/blob/master/README.md#int%C3%A9grer-les-mises-%C3%A0-jour-du-projet-original)\n"
   ]
  },
  {
   "cell_type": "markdown",
   "metadata": {
    "slideshow": {
     "slide_type": "slide"
    }
   },
   "source": [
    "---\n",
    "\n",
    "## 1. Premiers exercices avec les structures conditionnelles\n",
    "\n",
    "**Exercice 1:**\n",
    "\n",
    "1. Soit *num1 = 15* et *num2 = 5*. Ecrire un programme qui affiche *Factors!* si l'un des nombres est un facteur de l'autre (c'est-à-dire qu'il divise l'autre nombre). Si aucun des nombres n'est un facteur de l'autre, le programme n'affiche rien.\n",
    "2. Changer le code que vous avez écrit de telle sorte qu'il affiche toujours *Factors!* si un nombre est un facteur de l'autre, mais qui affiche aussi *Not factors!* si aucun des nombres n'est un facteur de l'autre."
   ]
  },
  {
   "cell_type": "code",
   "execution_count": 2,
   "metadata": {
    "slideshow": {
     "slide_type": "notes"
    }
   },
   "outputs": [
    {
     "output_type": "stream",
     "name": "stdout",
     "text": [
      "Not factors!\n"
     ]
    }
   ],
   "source": [
    "num1 = 15\n",
    "num2 = 6\n",
    "\n",
    "if num1 % num2 == 0 or num2 % num1 == 0 :\n",
    "  print(\"Factors!\")\n",
    "else :\n",
    "  print(\"Not factors!\")"
   ]
  },
  {
   "cell_type": "markdown",
   "metadata": {
    "slideshow": {
     "slide_type": "slide"
    }
   },
   "source": [
    "**Exercice 2:**\n",
    "    \n",
    "Soit *state = \"Georgia\"*. Ecrire un programme qui permet d'afficher un message spécifique en fonction de la variable *state* :  \n",
    "* \"School isn't cancelled.\" si nous sommes à New Jersey,  \n",
    "* \"School is postponed.\" si nous sommes à North Carolina,\n",
    "* \"School is cancelled!\" si nous sommes à Georgia,  \n",
    "* \"School's status is unknown\" si nous ne sommes pas dans un des trois états précédemment mentionnés."
   ]
  },
  {
   "cell_type": "code",
   "execution_count": 3,
   "metadata": {
    "slideshow": {
     "slide_type": "notes"
    }
   },
   "outputs": [
    {
     "output_type": "stream",
     "name": "stdout",
     "text": [
      "School's status is unknown\n"
     ]
    }
   ],
   "source": [
    "state = \"California\"\n",
    "\n",
    "if state == \"New Jersey\" :\n",
    "  print(\"School isn't cancelled.\")\n",
    "elif state == \"North Carolina\" :\n",
    "  print(\"School is postponed.\")\n",
    "elif state == \"Georgia\" :\n",
    "  print(\"School is cancelled!\")\n",
    "else :\n",
    "  print(\"School's status is unknown\")\n"
   ]
  },
  {
   "cell_type": "markdown",
   "metadata": {
    "slideshow": {
     "slide_type": "slide"
    }
   },
   "source": [
    "**Exercice 3:**\n",
    "\n",
    "Ecrire un programme pour découvrir le signe du zodiaque chinois pour une année donnée. Le signe du zodiaque chinois est basé sur un cycle de 12 ans et chaque année de ce cycle est représentée par un animal :\n",
    "* 0: monkey\n",
    "* 1: rooster\n",
    "* 2: dog\n",
    "* 3: pig\n",
    "* 4: rat\n",
    "* 5: ox\n",
    "* 6: tiger\n",
    "* 7: rabbit\n",
    "* 8: dragon\n",
    "* 9: snake\n",
    "* 10: horse\n",
    "* 11: sheep\n",
    "\n",
    "La valeur de l'année % 12 détermine le signe du zodiaque. Par exemple, 1900 est l'année du *rat* puisque 1900 % 12 est 4."
   ]
  },
  {
   "cell_type": "code",
   "execution_count": 4,
   "metadata": {
    "slideshow": {
     "slide_type": "notes"
    }
   },
   "outputs": [
    {
     "output_type": "stream",
     "name": "stdout",
     "text": [
      "horse\n"
     ]
    }
   ],
   "source": [
    "year = int(input(\"Entrez votre année de naissance !\"))\n",
    "animal = year % 12\n",
    "\n",
    "if animal == 0 :\n",
    "  print(\"monkey\")\n",
    "elif animal == 1 :\n",
    "  print(\"rooster\")\n",
    "elif animal == 2 :\n",
    "  print(\"dog\")\n",
    "elif animal == 3 :\n",
    "  print(\"pig\")\n",
    "elif animal == 4 :\n",
    "  print(\"rat\")\n",
    "elif animal == 5 :\n",
    "  print(\"ox\")\n",
    "elif animal == 6 :\n",
    "  print(\"tiger\")\n",
    "elif animal == 7 :\n",
    "  print(\"rabbit\")\n",
    "elif animal == 8 :\n",
    "  print(\"dragon\")\n",
    "elif animal == 9 :\n",
    "  print(\"snake\")\n",
    "elif animal == 10 :\n",
    "  print(\"horse\")\n",
    "elif animal == 11 :\n",
    "  print(\"sheep\")\n",
    "else :\n",
    "  print(\"L'année rentré n'est pas valide.\")\n"
   ]
  },
  {
   "cell_type": "markdown",
   "metadata": {
    "slideshow": {
     "slide_type": "slide"
    }
   },
   "source": [
    "**Exercice 4:**\n",
    "\n",
    "Soit *temperature = -3.7* et *celsius = True*. *celsius* est une variable booléenne qui indique si la température est en Celsius; si c'est *False*, alors la température donnée est en Fahrenheit. Ecrire un premier programme en utilisant *if-else* seulement qui permet d'afficher *Freezing* si les valeurs données représentent une température très basse, et *Not freezing* si ce n'est pas le cas. En Celsius, on considère qu'il fait très froid lorsque la température est inférieure ou égale à 0 degré. En Fahrenheit, on considère qu'il fait très froid lorsque la température est inférieure ou égale à 32 degrés. Proposer une seconde solution en utilisant *if-elif-else* à ce même problème."
   ]
  },
  {
   "cell_type": "code",
   "execution_count": 5,
   "metadata": {
    "slideshow": {
     "slide_type": "notes"
    }
   },
   "outputs": [
    {
     "output_type": "stream",
     "name": "stdout",
     "text": [
      "Freezing\n"
     ]
    }
   ],
   "source": [
    "temp = -3.7\n",
    "celsius = True\n",
    "\n",
    "if (temp <= 0 and celsius == True) or (temp <= 32 and celsius == False) :\n",
    "  print(\"Freezing\")\n",
    "elif (temp > 0 and celsius == True) or (temp > 32 and celsius == False) :\n",
    "  print(\"Not Freezing\")"
   ]
  },
  {
   "cell_type": "markdown",
   "metadata": {
    "slideshow": {
     "slide_type": "slide"
    }
   },
   "source": [
    "**Exercice 5:**\n",
    "    \n",
    "Ecrire un programme qui permet de déterminer si une année est bissextile ou non en utilisant une seule instruction *if-else*. Une année *A* est bissextile si *A* est divisible par 4. Elle ne l’est cependant pas si *A* est un multiple\n",
    "de 100, à moins que *A* ne soit multiple de 400.    "
   ]
  },
  {
   "cell_type": "code",
   "execution_count": 8,
   "metadata": {
    "slideshow": {
     "slide_type": "notes"
    }
   },
   "outputs": [
    {
     "output_type": "stream",
     "name": "stdout",
     "text": [
      "L'année est bissextile !\n"
     ]
    }
   ],
   "source": [
    "year = int(input(\"Entrez une année de votre choix\"))\n",
    "\n",
    "if year % 4 == 0 and year %100 != 0 or year % 400 == 0 :\n",
    "  print(\"L'année est bissextile !\")  \n",
    "else :\n",
    "  print(\"L'année n'est pas bissextile !\")\n"
   ]
  },
  {
   "source": [
    "---\n",
    "\n",
    "## 2. Premiers exercices avec les structures itératives\n",
    "\n",
    "**Exercice 6:**\n",
    "\n",
    "1. Ecrire un programme qui permet d'afficher tous les nombres entre 1 et 10 (bornes incluses).\n",
    "2. Ecrire un programme se limitant à la boucle *for* qui permet d'afficher tous les nombres pairs entre 1 et 20 (bornes incluses). Proposer une deuxième solution en incluant une structure conditionnelle."
   ],
   "cell_type": "markdown",
   "metadata": {}
  },
  {
   "cell_type": "code",
   "execution_count": 9,
   "metadata": {},
   "outputs": [
    {
     "output_type": "stream",
     "name": "stdout",
     "text": [
      "2\n4\n6\n8\n10\n12\n14\n16\n18\n20\n"
     ]
    }
   ],
   "source": [
    "\"\"\"\n",
    "for i in range (2, 21, 2) :\n",
    "  print(i)\n",
    "\"\"\"\n",
    "\n",
    "for i in range (1, 21) :\n",
    "  if i % 2 == 0 :\n",
    "    print(i)"
   ]
  },
  {
   "source": [
    "**Exercice 7:**\n",
    "    \n",
    "1. Ecrire un programme qui demande à l'utilisateur de saisir *n* nombres, *n* étant choisi par l'utilisateur, puis d'afficher la moyenne de ces nombres.\n",
    "\n",
    "2. Même question, mais l'utilisateur ne choisit pas à l'avance le nombre *n*, la procédure s'arrête quand il saisit le nombre -1.\n"
   ],
   "cell_type": "markdown",
   "metadata": {}
  },
  {
   "cell_type": "code",
   "execution_count": null,
   "metadata": {},
   "outputs": [],
   "source": [
    "#n = int(input(\"Choissez un nombre n de nombres dont vous voulez connaitre la moyenne\\n\"))\n",
    "nb = 0.0\n",
    "sum = 0.0\n",
    "\n",
    "#for i in range (0, n) :\n",
    "\n",
    "while nb != -1 :\n",
    "  nb = float(input(\"Entrez le nombre de votre choix\\n\"))\n",
    "  sum += nb \n",
    "\n",
    "moy = sum / n\n",
    "print(\"La moyenne de ces nombres est\", moy)"
   ]
  },
  {
   "cell_type": "code",
   "execution_count": null,
   "metadata": {},
   "outputs": [],
   "source": []
  },
  {
   "source": [
    "**Exercice 8:**\n",
    "\n",
    "Ecrire un programme qui permet de calculer le factoriel d'un nombre positif donné par l'utlisateur selon la formule suivante : \n",
    "n! = 1 x 2 x ... x n.  \n",
    "\n",
    "1. Une première version en utilisant la boucle *for*\n",
    "2. Une seconde version en utilisant la boucle *while*"
   ],
   "cell_type": "markdown",
   "metadata": {}
  },
  {
   "cell_type": "code",
   "execution_count": 11,
   "metadata": {},
   "outputs": [
    {
     "output_type": "stream",
     "name": "stdout",
     "text": [
      "Le factoriel de 3 est n! = 6\n"
     ]
    }
   ],
   "source": [
    "n = int(input(\"Entrez un nombre positif\\n\"))\n",
    "nfact = 1\n",
    "\n",
    "for i in range (1, n+1) :\n",
    "  nfact *= i\n",
    "\n",
    "print(\"Le factoriel de\", n,\"est n! =\",nfact)"
   ]
  },
  {
   "cell_type": "code",
   "execution_count": null,
   "metadata": {},
   "outputs": [],
   "source": []
  },
  {
   "cell_type": "markdown",
   "metadata": {
    "slideshow": {
     "slide_type": "slide"
    }
   },
   "source": [
    "---\n",
    "\n",
    "## 3. Pour aller plus loin\n",
    "\n",
    "**Excercice 9:**\n",
    "\n",
    "Ecrire un programme qui permet de connaître le jour de naissance de l'utilisateur en posant cinq questions.\n",
    "Chaque question demande si le jour est dans l'un des cinq ensembles suivants :\n",
    "\n",
    "* Set 1: [1 3 5 7 9 11 13 15 17 19 21 23 25 27 29 31]\n",
    "* Set 2: [2 3 6 7 10 11 14 15 18 19 22 23 26 27 30 31]\n",
    "* Set 3: [4 5 6 7 12 13 14 15 20 21 22 23 28 29 30 31]\n",
    "* Set 4: [8 9 10 11 12 13 14 15 24 25 26 27 28 29 30 31]\n",
    "* Set 5: [16 17 18 19 20 21 22 23 24 25 26 27 28 29 30 31]\n",
    "    \n",
    "\n",
    "Le jour de naissance est la somme des premiers nombres dans les ensembles où le jour apparaît. Par exemple,\n",
    "si le jour de naissance est 19, il apparaît dans Set 1, Set 2 et Set 5. Les premiers chiffres de ces trois ensembles sont 1, 2 et 16. Leur somme est 19."
   ]
  },
  {
   "cell_type": "code",
   "execution_count": 12,
   "metadata": {
    "slideshow": {
     "slide_type": "notes"
    }
   },
   "outputs": [
    {
     "output_type": "stream",
     "name": "stdout",
     "text": [
      "A l'aide de 5 question, nous allons découvrir votre jour de naissance.\n",
      " Répondez par 'True' ou 'False'\n",
      "\n",
      "True\n"
     ]
    }
   ],
   "source": [
    "print(\"A l'aide de 5 question, nous allons découvrir votre jour de naissance.\\n Répondez par 'True' ou 'False'\\n\")\n",
    "s1 = input(\"[1 3 5 7 9 11 13 15 17 19 21 23 25 27 29 31]\\n Votre jour de naissance est-il dans cette liste ?\")\n",
    "s2 = input(\"[2 3 6 7 10 11 14 15 18 19 22 23 26 27 30 31]\\n Votre jour de naissance est-il dans cette liste ?\")\n",
    "s3 = input(\"[4 5 6 7 12 13 14 15 20 21 22 23 28 29 30 31]\\n Votre jour de naissance est-il dans cette liste ?\")\n",
    "s4 = input(\"[8 9 10 11 12 13 14 15 24 25 26 27 28 29 30 31]\\n Votre jour de naissance est-il dans cette liste ?\")\n",
    "s5 = input(\"[16 17 18 19 20 21 22 23 24 25 26 27 28 29 30 31]\\n Votre jour de naissance est-il dans cette liste ?\")\n",
    "\n",
    "if s1 == True :\n",
    "  if s2 == True :\n",
    "    if s3 == True :\n",
    "      if s4 == True :\n",
    "        if s5 == True :\n",
    "          print(\"Votre jour de naissance est le 31\")\n",
    "        else :\n",
    "          print(\"Votre jour de naissance est le 15\")\n",
    "      elif s5 == True :\n",
    "        print(\"Votre jour de naissance est le 23\")\n",
    "      else : \n",
    "        print(\"Votre jour de naissance est le 7\")\n",
    "    elif s4 == True :\n",
    "      if s5 == True :\n",
    "        print(\"27\")\n",
    "      else :\n",
    "        print(\"11\")\n",
    "    elif s5 == True :\n",
    "      print(\"19\")\n",
    "    else :\n",
    "      print(\"3\")\n",
    "  elif s3 == True :\n",
    "    if s4 == True :\n",
    "      if s5 == True :\n",
    "        print(\"29\")\n",
    "      else :\n",
    "        print(\"13\")\n",
    "    elif s5 == True :\n",
    "      print(\"21\")\n",
    "    else :\n",
    "      print(\"5\")\n",
    "  else :\n",
    "    if s4 == True :\n",
    "      if s5 == True :\n",
    "        print(\"25\")\n",
    "      else :\n",
    "        print(\"9\")\n",
    "    elif s5 == True :\n",
    "      print(\"17\")\n",
    "    else :\n",
    "      print(\"1\")\n",
    "    \n",
    "\n",
    "\n",
    "\n",
    "\n",
    "\n",
    "      \n",
    "elif s1 == False and s2 == True :\n",
    "  if s3 == True :\n",
    "    if s4 == True :\n",
    "      if s5 == True :\n",
    "        print(\"Votre jour de naissance est le 30\")\n",
    "      else :\n",
    "          print(\"Votre jour de naissance est le 14\")\n",
    "    elif s5 == True :\n",
    "        print(\"Votre jour de naissance est le 22\")\n",
    "    else : \n",
    "      print(\"Votre jour de naissance est le 6\")\n",
    "  elif s4 == True :\n",
    "    if s5 == True :\n",
    "      print(\"Votre jour de naissance est le 26\")\n",
    "    else :\n",
    "      print(\"Votre jour de naissance est le 10\")\n",
    "  elif s5 == True :\n",
    "    print(\"Votre jour de naissance est le 18\")\n",
    "  else :\n",
    "    print(\"Votre jour de naissance est le 2\")\n",
    "\n",
    "elif s1 == False and s2 == False :\n",
    "  if s3 == True :\n",
    "    if s4 == True :\n",
    "      if s5 == True :\n",
    "        print(\"Votre jour de naissance est le 28\")\n",
    "      else :\n",
    "          print(\"Votre jour de naissance est le 12\")\n",
    "    elif s5 == True :\n",
    "        print(\"Votre jour de naissance est le 20\")\n",
    "    else : \n",
    "      print(\"Votre jour de naissance est le 4\")\n",
    "  elif s4 == True :\n",
    "    if s5 == True :\n",
    "      print(\"Votre jour de naissance est le 24\")\n",
    "    else :\n",
    "      print(\"Votre jour de naissance est le 8\")\n",
    "  elif s5 == True :\n",
    "    print(\"Votre jour de naissance est le 16\")\n",
    "  else :\n",
    "    print(\"Votre jour de naissance est le 0\")\n",
    "print(s1)"
   ]
  },
  {
   "cell_type": "markdown",
   "metadata": {
    "slideshow": {
     "slide_type": "slide"
    }
   },
   "source": [
    "**Excercice 10:**\n",
    "\n",
    "Ecrire un programme qui permet de génèrer de manière aléatoire un nombre à deux chiffres, invite l'utilisateur à saisir un nombre à deux chiffres et détermine si l'utilisateur gagne selon les règles suivantes :\n",
    "* Si l'entrée de l'utilisateur correspond à la loterie (le nombre généré aléatoirement) dans l'ordre exact, la récompense est de 10 000€.\n",
    "* Sinon, si les deux chiffres entrés par l'utilisateur correspondent aux deux chiffres du numéro de loterie, la récompense est de 3 000€.\n",
    "* Sinon, si un chiffre dans l'entrée de l'utilisateur correspond à un chiffre dans le numéro de loterie, la récompense est de 1 000€.\n",
    "\n",
    "**Astuce :** Utiliser la fonction **random.randint(0, 99)** pour génèrer de manière aléatoire un nombre à deux chiffres. Cette fonction doit être accompagné par **import random** comme première instruction dans le code."
   ]
  },
  {
   "source": [
    "import random\n",
    "zero = str(0)\n",
    "ran = random.randint(0, 9)\n",
    "print(ran)\n",
    "\n",
    "ranstr = str(ran)\n",
    "n = int(input(\"Choississez un nombre entier à deux chiffres entre 0 et 99.\\n\"))\n",
    "nstr = str(n)\n",
    "if ran >= 10 :\n",
    "    nstrbis = nstr[1] + nstr[0]\n",
    "    if n == ran :\n",
    "        print(\"Vous avez gagné 10 000€ !!!\")\n",
    "    elif nstrbis == ranstr :\n",
    "        print(\"Vous avez gagné 3 000€ !!!\")\n",
    "    elif nstr[0] == ranstr[0] or nstr[0] == ranstr[1] or nstr[1] == ranstr[0] or nstr[1] == ranstr[1] :\n",
    "        print(\"Vous avez gagné 1 000€ !!!\")\n",
    "else :\n",
    "    ranstrbis = zero[0] + ranstr[0]\n",
    "    if n == ran :\n",
    "        print(\"Vous avez gagné 10 000€ !!!\")\n",
    "    elif nstrbis == ranstrbis :\n",
    "        print(\"Vous avez gagné 3 000€ !!!\")\n",
    "    elif nstr[0] == ranstr[0] or nstr[1] == ranstr[0] :\n",
    "        print(\"Vous avez gagné 1 000€ !!!\")"
   ],
   "cell_type": "code",
   "metadata": {
    "slideshow": {
     "slide_type": "notes"
    }
   },
   "execution_count": 148,
   "outputs": [
    {
     "output_type": "stream",
     "name": "stdout",
     "text": [
      "9\n",
      "Vous avez gagné 10 000€ !!!\n"
     ]
    }
   ]
  },
  {
   "source": [
    "**Exercice 11:**\n",
    "    \n",
    "Ecrire un programme qui permet de calculer la somme des chiffres d'un entier *n* donné. Le nombre *n* doit être compris entre 10 et 20 (bornes incluses)."
   ],
   "cell_type": "markdown",
   "metadata": {}
  },
  {
   "cell_type": "code",
   "execution_count": 155,
   "metadata": {},
   "outputs": [
    {
     "output_type": "stream",
     "name": "stdout",
     "text": [
      "18\n"
     ]
    }
   ],
   "source": [
    "sum = 0\n",
    "n = int(input(\"Choississez un nombre entier entre 10 et 20.\\n\"))\n",
    "nstr = str(n)\n",
    "sum = int(nstr[0]) + int(nstr[1])\n",
    "print(sum)"
   ]
  },
  {
   "source": [
    "**Exercice 12:**\n",
    "\n",
    "1. Ecrire un programme qui permet de générer aléatoirement deux nombres entre 0 et 9, de calculer leurs différences (en valeur absolue), puis d'inviter l'utilisateur à répondre à la question suivante *que vaut abs(number1 - number2)?*. Le programme doit permettre à l'utilisateur de répondre plusieurs fois jusqu'à la saisie de la bonne réponse.\n",
    "2. Modifier le programme précédent de telle sorte qu'il génère cinq occurences à la suite invitant à répondre à la question précédente. A la fin, le programme affiche le nombre moyen de tentatives qu'il a fallu à l'utilisateur pour répondre à une question."
   ],
   "cell_type": "markdown",
   "metadata": {}
  },
  {
   "cell_type": "code",
   "execution_count": 166,
   "metadata": {
    "tags": []
   },
   "outputs": [
    {
     "output_type": "stream",
     "name": "stdout",
     "text": [
      "number1 = 6 \n",
      "number2 = 9 \n",
      "\n",
      "Loupé, vous pouvez réessayer.\n",
      "Loupé, vous pouvez réessayer.\n",
      "Loupé, vous pouvez réessayer.\n",
      "Loupé, vous pouvez réessayer.\n",
      "Bien joué\n"
     ]
    }
   ],
   "source": [
    "import math\n",
    "n1 = random.randint(0,9)\n",
    "n2 = random.randint(0,9)\n",
    "diff = abs(n1 - n2)\n",
    "print(\"number1 =\", n1, \"\\nnumber2 =\", n2,\"\\n\")\n",
    "rep = int(input(\"Que vaut abs(number1 - number2) ?\\n\"))\n",
    "\n",
    "while diff != rep :\n",
    "    print(\"Loupé, vous pouvez réessayer.\")\n",
    "    rep = int(input(\"Que vaut abs(number1 - number2) ?\\n\"))    \n",
    "\n",
    "print(\"Bien joué\")"
   ]
  },
  {
   "cell_type": "code",
   "execution_count": 169,
   "metadata": {
    "tags": []
   },
   "outputs": [
    {
     "output_type": "stream",
     "name": "stdout",
     "text": [
      "19\n"
     ]
    }
   ],
   "source": []
  },
  {
   "source": [
    "**Exercice 13:**\n",
    "\n",
    "Ecrire un programme qui permet de calculer le nombre de mots dans une phrase saisie par l'utilisateur."
   ],
   "cell_type": "markdown",
   "metadata": {}
  },
  {
   "cell_type": "code",
   "execution_count": null,
   "metadata": {
    "tags": []
   },
   "outputs": [],
   "source": [
    " "
   ]
  },
  {
   "cell_type": "markdown",
   "metadata": {
    "slideshow": {
     "slide_type": "slide"
    }
   },
   "source": [
    "---\n",
    "\n",
    "## 4. Pour s'entraîner\n",
    "\n",
    "**Exercice 14:**\n",
    "    \n",
    "Soit la variable my_input = \"zoophysiology\". Ecrire un script qui permet d'afficher l'un des messages suivants en fonction du nombre maximum de *o* consécutifs dans la variable *my_input*. Par exemple, le script doit afficher \"I like studying birds! I want to become an ornithologist!\" parce qu'il y a deux *o* consécutifs, même s'il y a aussi des *o* individual.\n",
    "Ignorer les *o* majuscules - recherchez que les *o* minuscules.\n",
    "\n",
    "* Si \"o\" apparaît trois fois ou plus de suite, afficher le message \"I like going to the zoo!\"  \n",
    "* Si \"o\" apparaît deux fois, afficher le message \"I like studying birds! I want to become an ornithologist!\"  \n",
    "* Si \"o\" apparaît une seule fois, afficher le message \"I like studying fish! I want to become an ichthyologist!\"  \n",
    "* Si \"o\" n'apparaît pas dans la variable *my_input*, afficher le message \"I miss going to the zoo!\"  \n",
    "\n",
    "**Astuce :** Utiliser l'opérateur **in** qui renvoie **True** si la première chaîne se trouve dans la deuxième chaîne. "
   ]
  },
  {
   "cell_type": "code",
   "execution_count": null,
   "metadata": {
    "slideshow": {
     "slide_type": "notes"
    }
   },
   "outputs": [],
   "source": []
  },
  {
   "cell_type": "markdown",
   "metadata": {
    "slideshow": {
     "slide_type": "slide"
    }
   },
   "source": [
    "**Exercice 15:**\n",
    "    \n",
    "Créer quatre variables nommées *team_1* et *team_2*, représentant deux noms d'équipes, et *team_1_score* et *team_2_score*, représentant les scores de ces deux équipes. \n",
    "Une équipe gagne si son score est supérieur à l'autre score de l'autre équipe.\n",
    " \n",
    "Ecrire un premier script qui permet d'afficher les messages suivants selon les valeurs entrées, ceci en utilisant seulement les quatres variables créées :\n",
    "* Si une équipe bat l'autre, affichez: \"[winner] beat [loser] by [margin]\"\n",
    "* Si aucune des équipes n'a gagné, affichez: \"[team_1] played [team_2] and it was a tie\"\n",
    "\n",
    "Ecrire un deuxième script qui permet d'afficher les mêmes messages mais en ajoutant trois variables de plus :\n",
    "* La variable *winner* pour définir l'équipe gagnante  \n",
    "* La variable *loser* pour définier l'équipe perdante  \n",
    "* La variable *margin* pour définir la différence entre les deux scores \n"
   ]
  },
  {
   "cell_type": "code",
   "execution_count": null,
   "metadata": {
    "slideshow": {
     "slide_type": "notes"
    }
   },
   "outputs": [],
   "source": []
  },
  {
   "cell_type": "code",
   "execution_count": null,
   "metadata": {
    "slideshow": {
     "slide_type": "notes"
    }
   },
   "outputs": [],
   "source": []
  },
  {
   "cell_type": "markdown",
   "metadata": {
    "slideshow": {
     "slide_type": "slide"
    }
   },
   "source": [
    "**Exercice 16:**\n",
    "    \n",
    "L'Indice de Masse Corporelle (IMC) permet d'estimer le poids idéal en fonction de la taille. Son calcul correspond au poids en kilogrammes divisé par le carré de la taille en mètre (IMC = poids en kg/taille² en m). Le chiffre obtenu permet d'estimer la corpulence et éventuellement le surpoids ou l'obésité chez l'adulte, homme ou femme.\n",
    "L'interprétation de l'IMC pour les personnes de 16 ans et plus est la suivante :\n",
    "* Moins de 18.5: Underweight\n",
    "* Entre 18.5 et 24.9: Normal\n",
    "* Entre 25.0 et 29.9: Overweight\n",
    "* Plus que 30.0: Obese\n",
    "\n",
    "Ecrire un programme qui permet de saisir un poids en *pounds* et une taille en *inches*, de calculer et d'afficher l'IMC à deux valeurs après la virgule, et d'afficher l'interprétation la plus adéquate. Notez qu'un *pound* équivaut à 0,45359237 kilogrammes et qu'un *inch* équivaut à 0,0254 mètre.  \n",
    "\n",
    "**Astuce :** Pour afficher deux valeurs après la virgule, utilisez la fonction **format(nom_variable, \".2f\")**. Exemple : **print('La moyenne est :', format(moyenne, \".2f\"))**"
   ]
  },
  {
   "cell_type": "code",
   "execution_count": 15,
   "metadata": {
    "slideshow": {
     "slide_type": "notes"
    }
   },
   "outputs": [
    {
     "output_type": "stream",
     "name": "stdout",
     "text": [
      "Vous mesurez donc 1.67 mètre soit 65.75 inch \nVous pesez donc 52.0 kilogramme soit 114.64 pound\n\nVotre IMC est de 18.65 vous avez donc un poid normal.\n"
     ]
    }
   ],
   "source": [
    "m = float(input(\"Entrez votre masse en kg.\\n\"))\n",
    "t = float(input(\"Entrez votre taille en mètre.\\n\"))\n",
    "print(\"Vous mesurez donc\", t, \"mètre soit\", format(t / 0.0254, \".2f\"), \"inch\", \"\\nVous pesez donc\", m, \"kilogramme soit\", format(m / 0.45359237, \".2f\"), \"pound\\n\")\n",
    "imc = m / (t**2)\n",
    "\n",
    "if imc < 18.5 :\n",
    "    print(\"Votre IMC est de\", format(imc, \".2f\"), \"vous avez donc un poid insuffisant.\" )\n",
    "elif imc >= 18.5 and imc <= 24.9 :\n",
    "    print(\"Votre IMC est de\", format(imc, \".2f\"), \"vous avez donc un poid normal.\" )\n",
    "elif imc >= 25.0 and imc <= 29.9 :\n",
    "    print(\"Votre IMC est de\", format(imc, \".2f\"), \"vous êtes donc en surpoids.\" )\n",
    "elif imc >= 30.0 :\n",
    "    print(\"Votre IMC est de\", format(imc, \".2f\"), \"vous êtes en obésité.\" )"
   ]
  },
  {
   "source": [
    "**Exercice 17:**\n",
    "\n",
    "Ecrire un programme qui affiche un triangle d'étoiles de taille donnée, par exemple si on entre 6, le programme affiche:\n",
    "```\n",
    "*\n",
    "**\n",
    "***\n",
    "****\n",
    "*****\n",
    "******\n",
    "```"
   ],
   "cell_type": "markdown",
   "metadata": {}
  },
  {
   "cell_type": "code",
   "execution_count": 176,
   "metadata": {
    "tags": []
   },
   "outputs": [
    {
     "output_type": "stream",
     "name": "stdout",
     "text": [
      "*\n**\n***\n****\n*****\n******\n"
     ]
    }
   ],
   "source": [
    "nb = int(input(\"Entrez la taille du triangle d'étoile voulu.\\n\"))\n",
    "star = \"*\"\n",
    "for i in range (0, nb) :\n",
    "    print(star)\n",
    "    star += \"*\"\n",
    "\n"
   ]
  },
  {
   "source": [
    "**Exercice 18:**\n",
    "\n",
    "Même exercice mais cette fois la sortie est\n",
    "```\n",
    "     *\n",
    "    **         \n",
    "   ***\n",
    "  ****\n",
    " *****\n",
    "******\n",
    "```"
   ],
   "cell_type": "markdown",
   "metadata": {}
  },
  {
   "cell_type": "code",
   "execution_count": 185,
   "metadata": {
    "tags": []
   },
   "outputs": [
    {
     "output_type": "stream",
     "name": "stdout",
     "text": [
      "      *\n     **\n    ***\n   ****\n  *****\n ******\n"
     ]
    }
   ],
   "source": [
    "nb = int(input(\"Entrez la taille du triangle d'étoile voulu.\\n\"))\n",
    "star = \"*\"\n",
    "for i in range (0, nb) :\n",
    "    print((nb-i) * \" \" + star)\n",
    "    star += \"*\"\n"
   ]
  },
  {
   "source": [
    "**Exercice 19:**\n",
    "\n",
    "Ecrire un programme qui calcule, étant donné un entier *n* rentré par l'utilisateur, la plus grande puissance de *n* inférieure à un million."
   ],
   "cell_type": "markdown",
   "metadata": {}
  },
  {
   "cell_type": "code",
   "execution_count": 10,
   "metadata": {
    "tags": []
   },
   "outputs": [
    {
     "output_type": "stream",
     "name": "stdout",
     "text": [
      "10 à la puissance 5 est la plus grande puissance de 10 inférieur à un million\n"
     ]
    }
   ],
   "source": [
    "n = int(input(\"Entrez un nombre.\\n\"))\n",
    "nb = n\n",
    "puis = 0\n",
    "\n",
    "while nb < 1000000 :  \n",
    "    nb = nb * n\n",
    "    puis += 1 \n",
    "\n",
    "\n",
    "print(n, \"à la puissance\", puis, \"est la plus grande puissance de\", n, \"inférieur à un million\")\n"
   ]
  },
  {
   "cell_type": "code",
   "execution_count": null,
   "metadata": {},
   "outputs": [],
   "source": []
  }
 ],
 "metadata": {
  "celltoolbar": "Diaporama",
  "kernelspec": {
   "name": "Python 3.7.2 32-bit",
   "display_name": "Python 3.7.2 32-bit",
   "metadata": {
    "interpreter": {
     "hash": "5904e9acfdcbcf3ffe75133b0c9b6dff7b57c1e6a616f57f4e472c678f5e92c3"
    }
   }
  },
  "language_info": {
   "codemirror_mode": {
    "name": "ipython",
    "version": 3
   },
   "file_extension": ".py",
   "mimetype": "text/x-python",
   "name": "python",
   "nbconvert_exporter": "python",
   "pygments_lexer": "ipython3",
   "version": "3.7.2-final"
  }
 },
 "nbformat": 4,
 "nbformat_minor": 4
}